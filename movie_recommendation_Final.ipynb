{
 "cells": [
  {
   "cell_type": "code",
   "execution_count": 2,
   "metadata": {
    "colab": {},
    "colab_type": "code",
    "id": "zatCLr2WI52V"
   },
   "outputs": [],
   "source": [
    "import numpy as np\n",
    "import pandas as pd\n",
    "import matplotlib.pyplot as plt"
   ]
  },
  {
   "cell_type": "code",
   "execution_count": 3,
   "metadata": {
    "colab": {
     "base_uri": "https://localhost:8080/",
     "height": 195
    },
    "colab_type": "code",
    "id": "1Pisnf-XJEe9",
    "outputId": "accb9b5c-9cb7-42fc-d724-8f124e89040f"
   },
   "outputs": [
    {
     "data": {
      "text/html": [
       "<div>\n",
       "<style scoped>\n",
       "    .dataframe tbody tr th:only-of-type {\n",
       "        vertical-align: middle;\n",
       "    }\n",
       "\n",
       "    .dataframe tbody tr th {\n",
       "        vertical-align: top;\n",
       "    }\n",
       "\n",
       "    .dataframe thead th {\n",
       "        text-align: right;\n",
       "    }\n",
       "</style>\n",
       "<table border=\"1\" class=\"dataframe\">\n",
       "  <thead>\n",
       "    <tr style=\"text-align: right;\">\n",
       "      <th></th>\n",
       "      <th>userId</th>\n",
       "      <th>movieId</th>\n",
       "      <th>rating</th>\n",
       "      <th>timestamp</th>\n",
       "    </tr>\n",
       "  </thead>\n",
       "  <tbody>\n",
       "    <tr>\n",
       "      <th>0</th>\n",
       "      <td>1</td>\n",
       "      <td>2</td>\n",
       "      <td>3.5</td>\n",
       "      <td>1112486027</td>\n",
       "    </tr>\n",
       "    <tr>\n",
       "      <th>1</th>\n",
       "      <td>1</td>\n",
       "      <td>29</td>\n",
       "      <td>3.5</td>\n",
       "      <td>1112484676</td>\n",
       "    </tr>\n",
       "    <tr>\n",
       "      <th>2</th>\n",
       "      <td>1</td>\n",
       "      <td>32</td>\n",
       "      <td>3.5</td>\n",
       "      <td>1112484819</td>\n",
       "    </tr>\n",
       "    <tr>\n",
       "      <th>3</th>\n",
       "      <td>1</td>\n",
       "      <td>47</td>\n",
       "      <td>3.5</td>\n",
       "      <td>1112484727</td>\n",
       "    </tr>\n",
       "    <tr>\n",
       "      <th>4</th>\n",
       "      <td>1</td>\n",
       "      <td>50</td>\n",
       "      <td>3.5</td>\n",
       "      <td>1112484580</td>\n",
       "    </tr>\n",
       "  </tbody>\n",
       "</table>\n",
       "</div>"
      ],
      "text/plain": [
       "   userId  movieId  rating   timestamp\n",
       "0       1        2     3.5  1112486027\n",
       "1       1       29     3.5  1112484676\n",
       "2       1       32     3.5  1112484819\n",
       "3       1       47     3.5  1112484727\n",
       "4       1       50     3.5  1112484580"
      ]
     },
     "execution_count": 3,
     "metadata": {},
     "output_type": "execute_result"
    }
   ],
   "source": [
    "ratings = pd.read_csv('ratings.csv')\n",
    "ratings.head()\n"
   ]
  },
  {
   "cell_type": "code",
   "execution_count": 4,
   "metadata": {
    "colab": {
     "base_uri": "https://localhost:8080/",
     "height": 195
    },
    "colab_type": "code",
    "id": "A1Zwl6qYJb22",
    "outputId": "e61796d2-3a86-424d-c4d9-4049d68fb655"
   },
   "outputs": [
    {
     "data": {
      "text/html": [
       "<div>\n",
       "<style scoped>\n",
       "    .dataframe tbody tr th:only-of-type {\n",
       "        vertical-align: middle;\n",
       "    }\n",
       "\n",
       "    .dataframe tbody tr th {\n",
       "        vertical-align: top;\n",
       "    }\n",
       "\n",
       "    .dataframe thead th {\n",
       "        text-align: right;\n",
       "    }\n",
       "</style>\n",
       "<table border=\"1\" class=\"dataframe\">\n",
       "  <thead>\n",
       "    <tr style=\"text-align: right;\">\n",
       "      <th></th>\n",
       "      <th>movieId</th>\n",
       "      <th>title</th>\n",
       "      <th>genres</th>\n",
       "    </tr>\n",
       "  </thead>\n",
       "  <tbody>\n",
       "    <tr>\n",
       "      <th>0</th>\n",
       "      <td>1</td>\n",
       "      <td>Toy Story (1995)</td>\n",
       "      <td>Adventure|Animation|Children|Comedy|Fantasy</td>\n",
       "    </tr>\n",
       "    <tr>\n",
       "      <th>1</th>\n",
       "      <td>2</td>\n",
       "      <td>Jumanji (1995)</td>\n",
       "      <td>Adventure|Children|Fantasy</td>\n",
       "    </tr>\n",
       "    <tr>\n",
       "      <th>2</th>\n",
       "      <td>3</td>\n",
       "      <td>Grumpier Old Men (1995)</td>\n",
       "      <td>Comedy|Romance</td>\n",
       "    </tr>\n",
       "    <tr>\n",
       "      <th>3</th>\n",
       "      <td>4</td>\n",
       "      <td>Waiting to Exhale (1995)</td>\n",
       "      <td>Comedy|Drama|Romance</td>\n",
       "    </tr>\n",
       "    <tr>\n",
       "      <th>4</th>\n",
       "      <td>5</td>\n",
       "      <td>Father of the Bride Part II (1995)</td>\n",
       "      <td>Comedy</td>\n",
       "    </tr>\n",
       "  </tbody>\n",
       "</table>\n",
       "</div>"
      ],
      "text/plain": [
       "   movieId                               title  \\\n",
       "0        1                    Toy Story (1995)   \n",
       "1        2                      Jumanji (1995)   \n",
       "2        3             Grumpier Old Men (1995)   \n",
       "3        4            Waiting to Exhale (1995)   \n",
       "4        5  Father of the Bride Part II (1995)   \n",
       "\n",
       "                                        genres  \n",
       "0  Adventure|Animation|Children|Comedy|Fantasy  \n",
       "1                   Adventure|Children|Fantasy  \n",
       "2                               Comedy|Romance  \n",
       "3                         Comedy|Drama|Romance  \n",
       "4                                       Comedy  "
      ]
     },
     "execution_count": 4,
     "metadata": {},
     "output_type": "execute_result"
    }
   ],
   "source": [
    "movies = pd.read_csv(\"movies.csv\")\n",
    "movies.head()"
   ]
  },
  {
   "cell_type": "code",
   "execution_count": 5,
   "metadata": {
    "colab": {
     "base_uri": "https://localhost:8080/",
     "height": 84
    },
    "colab_type": "code",
    "id": "Dph_urwnJgwS",
    "outputId": "0c6f7266-7514-46db-e166-29c335c509e8"
   },
   "outputs": [
    {
     "name": "stdout",
     "output_type": "stream",
     "text": [
      "number of unique user:\n",
      "7120\n",
      "number of unique movies:\n",
      "14026\n"
     ]
    }
   ],
   "source": [
    "unique_user = ratings.userId.nunique(dropna = True)\n",
    "unique_movie = ratings.movieId.nunique(dropna = True)\n",
    "print(\"number of unique user:\")\n",
    "print(unique_user)\n",
    "print(\"number of unique movies:\")\n",
    "print(unique_movie)"
   ]
  },
  {
   "cell_type": "code",
   "execution_count": 6,
   "metadata": {
    "colab": {
     "base_uri": "https://localhost:8080/",
     "height": 84
    },
    "colab_type": "code",
    "id": "8yHRtjFMJlZu",
    "outputId": "5a018275-8ff2-416e-f59e-e78721ee4530"
   },
   "outputs": [
    {
     "name": "stdout",
     "output_type": "stream",
     "text": [
      "ratings not provided means some user have not watched some movies and its given by\n",
      "98816545\n",
      "sparsity of user-item matrix is :\n",
      "0.9895000877183144\n"
     ]
    }
   ],
   "source": [
    "# for creating item user matrix  .. we need to check how many ratings we have here or how many are absent .\n",
    "total_ratings = unique_user*unique_movie\n",
    "rating_present = ratings.shape[0]\n",
    "\n",
    "ratings_not_provided = total_ratings - rating_present \n",
    "\n",
    "print(\"ratings not provided means some user have not watched some movies and its given by\")\n",
    "print(ratings_not_provided)\n",
    "print(\"sparsity of user-item matrix is :\")\n",
    "print(ratings_not_provided / total_ratings)"
   ]
  },
  {
   "cell_type": "markdown",
   "metadata": {
    "colab_type": "text",
    "id": "C_uRlpgzJv33"
   },
   "source": [
    "# data exploration :\n",
    "1) plot ratings count which gives information about which rating(on scale of 0 t0 5) is more frequent\n",
    "2) plot rating frequency of each movie(how many time a movie has been rated)\n",
    "\n"
   ]
  },
  {
   "cell_type": "code",
   "execution_count": 7,
   "metadata": {
    "colab": {},
    "colab_type": "code",
    "id": "wScvZ9vmJ7kA"
   },
   "outputs": [
    {
     "data": {
      "text/html": [
       "<div>\n",
       "<style scoped>\n",
       "    .dataframe tbody tr th:only-of-type {\n",
       "        vertical-align: middle;\n",
       "    }\n",
       "\n",
       "    .dataframe tbody tr th {\n",
       "        vertical-align: top;\n",
       "    }\n",
       "\n",
       "    .dataframe thead th {\n",
       "        text-align: right;\n",
       "    }\n",
       "</style>\n",
       "<table border=\"1\" class=\"dataframe\">\n",
       "  <thead>\n",
       "    <tr style=\"text-align: right;\">\n",
       "      <th></th>\n",
       "      <th>count</th>\n",
       "      <th>log_count</th>\n",
       "    </tr>\n",
       "  </thead>\n",
       "  <tbody>\n",
       "    <tr>\n",
       "      <th>0.0</th>\n",
       "      <td>98816545</td>\n",
       "      <td>18.408776</td>\n",
       "    </tr>\n",
       "    <tr>\n",
       "      <th>0.5</th>\n",
       "      <td>13232</td>\n",
       "      <td>9.490393</td>\n",
       "    </tr>\n",
       "    <tr>\n",
       "      <th>1.0</th>\n",
       "      <td>35144</td>\n",
       "      <td>10.467209</td>\n",
       "    </tr>\n",
       "    <tr>\n",
       "      <th>1.5</th>\n",
       "      <td>14029</td>\n",
       "      <td>9.548882</td>\n",
       "    </tr>\n",
       "    <tr>\n",
       "      <th>2.0</th>\n",
       "      <td>74706</td>\n",
       "      <td>11.221316</td>\n",
       "    </tr>\n",
       "    <tr>\n",
       "      <th>2.5</th>\n",
       "      <td>44791</td>\n",
       "      <td>10.709763</td>\n",
       "    </tr>\n",
       "    <tr>\n",
       "      <th>3.0</th>\n",
       "      <td>226202</td>\n",
       "      <td>12.329184</td>\n",
       "    </tr>\n",
       "    <tr>\n",
       "      <th>3.5</th>\n",
       "      <td>112926</td>\n",
       "      <td>11.634488</td>\n",
       "    </tr>\n",
       "    <tr>\n",
       "      <th>4.0</th>\n",
       "      <td>295135</td>\n",
       "      <td>12.595188</td>\n",
       "    </tr>\n",
       "    <tr>\n",
       "      <th>4.5</th>\n",
       "      <td>79848</td>\n",
       "      <td>11.287880</td>\n",
       "    </tr>\n",
       "    <tr>\n",
       "      <th>5.0</th>\n",
       "      <td>152562</td>\n",
       "      <td>11.935326</td>\n",
       "    </tr>\n",
       "  </tbody>\n",
       "</table>\n",
       "</div>"
      ],
      "text/plain": [
       "        count  log_count\n",
       "0.0  98816545  18.408776\n",
       "0.5     13232   9.490393\n",
       "1.0     35144  10.467209\n",
       "1.5     14029   9.548882\n",
       "2.0     74706  11.221316\n",
       "2.5     44791  10.709763\n",
       "3.0    226202  12.329184\n",
       "3.5    112926  11.634488\n",
       "4.0    295135  12.595188\n",
       "4.5     79848  11.287880\n",
       "5.0    152562  11.935326"
      ]
     },
     "execution_count": 7,
     "metadata": {},
     "output_type": "execute_result"
    }
   ],
   "source": [
    "\n",
    "rating_cnt = pd.DataFrame(ratings.groupby('rating').size(),columns=['count'])\n",
    "rating_cnt\n",
    "\n",
    "\n",
    "rating_cnt = rating_cnt.append(pd.DataFrame({'count':ratings_not_provided},index = [0])).sort_index()\n",
    "rating_cnt\n",
    "\n",
    "#since the count of rating 0 is too large in comparison to others rating ...use lag value\n",
    "rating_cnt['log_count'] = np.log(rating_cnt['count'])\n",
    "rating_cnt"
   ]
  },
  {
   "cell_type": "code",
   "execution_count": 8,
   "metadata": {
    "colab": {
     "base_uri": "https://localhost:8080/",
     "height": 428
    },
    "colab_type": "code",
    "id": "CuXwnL5lKFC3",
    "outputId": "ce5b1ee0-4b25-4572-e989-24a86f8cdb4d"
   },
   "outputs": [
    {
     "name": "stdout",
     "output_type": "stream",
     "text": [
      "frequency of rating like 3 and 4 are more in compare to other ratings\n"
     ]
    },
    {
     "data": {
      "image/png": "[encoded data removed]",
      "text/plain": [
       "<Figure size 864x432 with 1 Axes>"
      ]
     },
     "metadata": {
      "needs_background": "light"
     },
     "output_type": "display_data"
    }
   ],
   "source": [
    "# plot a bar plot to visualise the ratings\n",
    "rating_cnt_for_vis = rating_cnt\n",
    "ax = rating_cnt_for_vis.reset_index().rename(columns = {'index':'rating_value'}).plot(\n",
    "    x='rating_value',\n",
    "    y='count',\n",
    "    logy = True,\n",
    "    kind='bar',\n",
    "    title='count for each rating in log scale',\n",
    "    figsize=(12,6)\n",
    ")\n",
    "ax.set_xlabel('rating_value')\n",
    "ax.set_ylabel('count of each rating')\n",
    "print(\"frequency of rating like 3 and 4 are more in compare to other ratings\")"
   ]
  },
  {
   "cell_type": "code",
   "execution_count": 9,
   "metadata": {
    "colab": {
     "base_uri": "https://localhost:8080/",
     "height": 225
    },
    "colab_type": "code",
    "id": "ZXqRAamGKIXT",
    "outputId": "3bc5d663-c87a-47c0-d890-7206f2759515"
   },
   "outputs": [
    {
     "data": {
      "text/html": [
       "<div>\n",
       "<style scoped>\n",
       "    .dataframe tbody tr th:only-of-type {\n",
       "        vertical-align: middle;\n",
       "    }\n",
       "\n",
       "    .dataframe tbody tr th {\n",
       "        vertical-align: top;\n",
       "    }\n",
       "\n",
       "    .dataframe thead th {\n",
       "        text-align: right;\n",
       "    }\n",
       "</style>\n",
       "<table border=\"1\" class=\"dataframe\">\n",
       "  <thead>\n",
       "    <tr style=\"text-align: right;\">\n",
       "      <th></th>\n",
       "      <th>count</th>\n",
       "    </tr>\n",
       "    <tr>\n",
       "      <th>movieId</th>\n",
       "      <th></th>\n",
       "    </tr>\n",
       "  </thead>\n",
       "  <tbody>\n",
       "    <tr>\n",
       "      <th>1</th>\n",
       "      <td>2569</td>\n",
       "    </tr>\n",
       "    <tr>\n",
       "      <th>2</th>\n",
       "      <td>1155</td>\n",
       "    </tr>\n",
       "    <tr>\n",
       "      <th>3</th>\n",
       "      <td>685</td>\n",
       "    </tr>\n",
       "    <tr>\n",
       "      <th>4</th>\n",
       "      <td>138</td>\n",
       "    </tr>\n",
       "    <tr>\n",
       "      <th>5</th>\n",
       "      <td>657</td>\n",
       "    </tr>\n",
       "  </tbody>\n",
       "</table>\n",
       "</div>"
      ],
      "text/plain": [
       "         count\n",
       "movieId       \n",
       "1         2569\n",
       "2         1155\n",
       "3          685\n",
       "4          138\n",
       "5          657"
      ]
     },
     "execution_count": 9,
     "metadata": {},
     "output_type": "execute_result"
    }
   ],
   "source": [
    "\n",
    "movie_freq = pd.DataFrame(ratings.groupby('movieId').size(),columns=['count'])\n",
    "movie_freq.head()"
   ]
  },
  {
   "cell_type": "code",
   "execution_count": 10,
   "metadata": {
    "colab": {
     "base_uri": "https://localhost:8080/",
     "height": 530
    },
    "colab_type": "code",
    "id": "dQ0WY9WNKNQS",
    "outputId": "e7c1ac7d-a51d-42f3-d9a8-0125a8193823"
   },
   "outputs": [
    {
     "data": {
      "text/plain": [
       "Text(0, 0.5, 'rating freq of movies')"
      ]
     },
     "execution_count": 10,
     "metadata": {},
     "output_type": "execute_result"
    },
    {
     "data": {
      "image/png": "[encoded data removed]",
      "text/plain": [
       "<Figure size 864x576 with 1 Axes>"
      ]
     },
     "metadata": {
      "needs_background": "light"
     },
     "output_type": "display_data"
    }
   ],
   "source": [
    "# plot movie rating freq\n",
    "movie_freq_copy = movie_freq.sort_values(by='count',ascending=False)\n",
    "movie_freq_copy=movie_freq_copy.reset_index(drop=True)\n",
    "\n",
    "ax1  = movie_freq_copy.plot(\n",
    "    title='rating frquency of movie',\n",
    "    logy=True,\n",
    "    figsize=(12,8)\n",
    ")\n",
    "ax1.set_xlabel('number of movies')\n",
    "ax1.set_ylabel('rating freq of movies')"
   ]
  },
  {
   "cell_type": "code",
   "execution_count": 11,
   "metadata": {
    "colab": {
     "base_uri": "https://localhost:8080/",
     "height": 151
    },
    "colab_type": "code",
    "id": "Vv2-jFJcKU3Z",
    "outputId": "710b749c-1953-4962-9d47-c896279eda7c"
   },
   "outputs": [
    {
     "name": "stdout",
     "output_type": "stream",
     "text": [
      "shape of ratings:\n",
      "(1048575, 4)\n",
      "shape of ratings_with_popular_movies:\n",
      "(1025973, 4)\n",
      "no of movies which are rated more than 50 times:\n",
      "6870\n",
      "no of unique movies present in dataset:\n",
      "14026\n"
     ]
    }
   ],
   "source": [
    "# we can see that most of the movies are rated very rarely ..\n",
    "# so we can remove those movies which are rated less than 50 times.\n",
    "\n",
    "threshold_rating_freq = 10\n",
    "\n",
    "\n",
    "popular_movies_id = list(set(movie_freq.query('count>=@threshold_rating_freq').index))\n",
    "\n",
    "# ratings df after dropping non popular movies\n",
    "ratings_with_popular_movies = ratings[ratings.movieId.isin(popular_movies_id)]\n",
    "\n",
    "print('shape of ratings:')\n",
    "print(ratings.shape)\n",
    "\n",
    "print('shape of ratings_with_popular_movies:')\n",
    "print(ratings_with_popular_movies.shape)\n",
    "\n",
    "print(\"no of movies which are rated more than 50 times:\")\n",
    "print(len(popular_movies_id))\n",
    "\n",
    "\n",
    "print(\"no of unique movies present in dataset:\")\n",
    "print(unique_movie)"
   ]
  },
  {
   "cell_type": "code",
   "execution_count": 12,
   "metadata": {
    "colab": {
     "base_uri": "https://localhost:8080/",
     "height": 225
    },
    "colab_type": "code",
    "id": "yBXBBwODKyJt",
    "outputId": "b65fb83f-99b1-42d5-f719-ddaccf2855ff"
   },
   "outputs": [
    {
     "data": {
      "text/html": [
       "<div>\n",
       "<style scoped>\n",
       "    .dataframe tbody tr th:only-of-type {\n",
       "        vertical-align: middle;\n",
       "    }\n",
       "\n",
       "    .dataframe tbody tr th {\n",
       "        vertical-align: top;\n",
       "    }\n",
       "\n",
       "    .dataframe thead th {\n",
       "        text-align: right;\n",
       "    }\n",
       "</style>\n",
       "<table border=\"1\" class=\"dataframe\">\n",
       "  <thead>\n",
       "    <tr style=\"text-align: right;\">\n",
       "      <th></th>\n",
       "      <th>count</th>\n",
       "    </tr>\n",
       "    <tr>\n",
       "      <th>userId</th>\n",
       "      <th></th>\n",
       "    </tr>\n",
       "  </thead>\n",
       "  <tbody>\n",
       "    <tr>\n",
       "      <th>1</th>\n",
       "      <td>175</td>\n",
       "    </tr>\n",
       "    <tr>\n",
       "      <th>2</th>\n",
       "      <td>61</td>\n",
       "    </tr>\n",
       "    <tr>\n",
       "      <th>3</th>\n",
       "      <td>187</td>\n",
       "    </tr>\n",
       "    <tr>\n",
       "      <th>4</th>\n",
       "      <td>28</td>\n",
       "    </tr>\n",
       "    <tr>\n",
       "      <th>5</th>\n",
       "      <td>66</td>\n",
       "    </tr>\n",
       "  </tbody>\n",
       "</table>\n",
       "</div>"
      ],
      "text/plain": [
       "        count\n",
       "userId       \n",
       "1         175\n",
       "2          61\n",
       "3         187\n",
       "4          28\n",
       "5          66"
      ]
     },
     "execution_count": 12,
     "metadata": {},
     "output_type": "execute_result"
    }
   ],
   "source": [
    "user_cnt = pd.DataFrame(ratings.groupby('userId').size(),columns=['count'])\n",
    "user_cnt_copy = user_cnt\n",
    "user_cnt.head()"
   ]
  },
  {
   "cell_type": "code",
   "execution_count": 13,
   "metadata": {
    "colab": {
     "base_uri": "https://localhost:8080/",
     "height": 421
    },
    "colab_type": "code",
    "id": "zdouyRaBK1oH",
    "outputId": "0e87a048-d87a-46b8-de29-3b64b8d58d68"
   },
   "outputs": [
    {
     "data": {
      "text/plain": [
       "Text(0, 0.5, 'rating frequency')"
      ]
     },
     "execution_count": 13,
     "metadata": {},
     "output_type": "execute_result"
    },
    {
     "data": {
      "image/png": "[encoded data removed]",
      "text/plain": [
       "<Figure size 864x432 with 1 Axes>"
      ]
     },
     "metadata": {
      "needs_background": "light"
     },
     "output_type": "display_data"
    }
   ],
   "source": [
    "# plot rating freq\n",
    "ax  = user_cnt_copy.sort_values('count',ascending=False).reset_index(drop=True).plot(\n",
    "      title='rating freq by user',\n",
    "      figsize=(12,6),\n",
    "      \n",
    ")\n",
    "ax.set_xlabel(\"users\")\n",
    "ax.set_ylabel(\"rating frequency\")"
   ]
  },
  {
   "cell_type": "code",
   "execution_count": 14,
   "metadata": {
    "colab": {
     "base_uri": "https://localhost:8080/",
     "height": 218
    },
    "colab_type": "code",
    "id": "hUXuh7iaK4YT",
    "outputId": "02566673-2db8-4cb3-cc78-17569bba7b11"
   },
   "outputs": [
    {
     "name": "stdout",
     "output_type": "stream",
     "text": [
      "shape of ratings_with_popular_movies:\n",
      "(1025973, 4)\n",
      "shape of ratings_with_popular_movies_with_active_user:\n",
      "(994492, 4)\n",
      "unique_user:\n",
      "7120\n",
      "active_user\n",
      "5786\n",
      "unique_movies\n",
      "14026\n",
      "popular_movies\n",
      "6870\n"
     ]
    }
   ],
   "source": [
    "\n",
    "threshold_val = 30\n",
    "active_user = list(set(user_cnt.query('count>=@threshold_val').index))\n",
    "\n",
    "#upadte your ratings_with_popular_movies\n",
    "ratings_with_popular_movies_with_active_user = ratings_with_popular_movies[ratings_with_popular_movies.userId.isin(active_user)]\n",
    "\n",
    "print('shape of ratings_with_popular_movies:')\n",
    "print(ratings_with_popular_movies.shape)\n",
    "\n",
    "print('shape of ratings_with_popular_movies_with_active_user:')\n",
    "print(ratings_with_popular_movies_with_active_user.shape)\n",
    "\n",
    "print(\"unique_user:\")\n",
    "print(unique_user)\n",
    "\n",
    "print(\"active_user\")\n",
    "print(len(active_user))\n",
    "\n",
    "print(\"unique_movies\")\n",
    "print(unique_movie)\n",
    "\n",
    "print(\"popular_movies\")\n",
    "print(len(popular_movies_id))"
   ]
  },
  {
   "cell_type": "markdown",
   "metadata": {
    "colab_type": "text",
    "id": "ajn1kPM7K_2x"
   },
   "source": [
    "shape of ratings_with_popular_movies:\n",
    "(81116, 4)\n",
    "shape of ratings_with_popular_movies_with_active_user:\n",
    "(78712, 4)\n",
    "unique_user:\n",
    "610\n",
    "active_user\n",
    "501\n",
    "unique_movies\n",
    "9724\n",
    "popular_movies\n",
    "2269\n",
    "\n",
    "So you can see that we have reduce significant number of user and movies in our dataset but shape of rating dataset doesnt change in that order because we are cosidering only movies that are rated more than threshold and user that do give ratings more than threshold value.\n",
    "this is necessary due to following reasono:\n",
    "1) it reduces the sparsity.\n",
    "2) as we are going to use KNN algorithm for recommendation ,we are going to affected by \"curse of dimensionality\".\n",
    "   KNN doesnt work properly in case of large nunber of dimension.\n",
    "3) "
   ]
  },
  {
   "cell_type": "markdown",
   "metadata": {
    "colab_type": "text",
    "id": "whSg1HGLLZ9Z"
   },
   "source": [
    "# building the KNN model\n",
    "here we are going to use an unsupervised learning algorithm known as NearestNeibhours. so we have to reshape/prepare our dataset into a format which can be given as parameter. we will pivot our final dataset into a ITEM-USER matrix and empty cell with 0.( because KNN model calculates distance between two points. )"
   ]
  },
  {
   "cell_type": "code",
   "execution_count": 15,
   "metadata": {
    "colab": {},
    "colab_type": "code",
    "id": "lLWEBDFvLPL8"
   },
   "outputs": [],
   "source": [
    "final_ratings = ratings_with_popular_movies_with_active_user\n",
    "item_user_mat = final_ratings.pivot(index='movieId',columns = 'userId',values='rating').fillna(0)"
   ]
  },
  {
   "cell_type": "code",
   "execution_count": 16,
   "metadata": {
    "colab": {},
    "colab_type": "code",
    "id": "CHSWkznDLo59"
   },
   "outputs": [],
   "source": [
    "movie_to_index = {\n",
    "    movie:i for i,movie in enumerate(list(movies.set_index('movieId').loc[item_user_mat.index].title))\n",
    "}\n"
   ]
  },
  {
   "cell_type": "code",
   "execution_count": 18,
   "metadata": {
    "colab": {},
    "colab_type": "code",
    "id": "_ERDjIrlLrCp"
   },
   "outputs": [],
   "source": [
    "# create a sparse matrix for more efficient calculations\n",
    "from scipy.sparse import csr_matrix\n",
    "item_user_mat_sparse = csr_matrix(item_user_mat.values)"
   ]
  },
  {
   "cell_type": "markdown",
   "metadata": {
    "colab_type": "text",
    "id": "3tfrJMe5LwhH"
   },
   "source": [
    "# Now when a movie name is given as input we need to find that any such movie present in our dataset or not.\n"
   ]
  },
  {
   "cell_type": "code",
   "execution_count": 19,
   "metadata": {
    "colab": {
     "base_uri": "https://localhost:8080/",
     "height": 84
    },
    "colab_type": "code",
    "id": "y24tDfyLMlZn",
    "outputId": "a7f4c847-6835-42df-e5e3-0c01df7901e4"
   },
   "outputs": [
    {
     "name": "stdout",
     "output_type": "stream",
     "text": [
      "Collecting fuzzywuzzy\n",
      "  Downloading fuzzywuzzy-0.18.0-py2.py3-none-any.whl (18 kB)\n",
      "Installing collected packages: fuzzywuzzy\n",
      "Successfully installed fuzzywuzzy-0.18.0\n",
      "Note: you may need to restart the kernel to use updated packages.\n"
     ]
    }
   ],
   "source": [
    "pip install fuzzywuzzy\n"
   ]
  },
  {
   "cell_type": "code",
   "execution_count": 20,
   "metadata": {
    "colab": {},
    "colab_type": "code",
    "id": "9G-qnTcGLtns"
   },
   "outputs": [
    {
     "name": "stderr",
     "output_type": "stream",
     "text": [
      "/opt/anaconda3/lib/python3.8/site-packages/fuzzywuzzy/fuzz.py:11: UserWarning: Using slow pure-python SequenceMatcher. Install python-Levenshtein to remove this warning\n",
      "  warnings.warn('Using slow pure-python SequenceMatcher. Install python-Levenshtein to remove this warning')\n"
     ]
    }
   ],
   "source": [
    "# fuzzy_movie_name_matching\n",
    "from fuzzywuzzy import fuzz\n",
    "\n",
    "def fuzzy_movie_name_matching (input_str,mapper,print_matches):\n",
    "    # match_movie is list of tuple of 3 values(movie_name,index,fuzz_ratio)\n",
    "    match_movie = []\n",
    "    for movie,ind in mapper.items():\n",
    "        current_ratio = fuzz.ratio(movie.lower(),input_str.lower())\n",
    "        if(current_ratio>=50):\n",
    "            match_movie.append((movie,ind,current_ratio))\n",
    "     \n",
    "    # sort the match_movie with respect to ratio \n",
    "\n",
    "    match_movie = sorted(match_movie,key =lambda x:x[2])[::-1]\n",
    "    \n",
    "    if len(match_movie)==0:\n",
    "        print(\"Oops..! no such movie is present here\\n\")\n",
    "        return -1\n",
    "    if print_matches == True:\n",
    "        print(\"some matching of input_str are\\n\")\n",
    "        for title,ind,ratio in match_movie:\n",
    "            print(title,ind,'\\n')\n",
    "     \n",
    "        \n",
    "    return match_movie[0][1]    \n",
    "     \n",
    "   "
   ]
  },
  {
   "cell_type": "code",
   "execution_count": 23,
   "metadata": {
    "colab": {},
    "colab_type": "code",
    "id": "MzQ7pQo3Lz5N"
   },
   "outputs": [],
   "source": [
    "# define the model\n",
    "from sklearn.neighbors import NearestNeighbors\n",
    "recommendation_model = NearestNeighbors(metric='cosine',algorithm = 'brute',n_neighbors=20,n_jobs=-1)"
   ]
  },
  {
   "cell_type": "code",
   "execution_count": 24,
   "metadata": {
    "colab": {},
    "colab_type": "code",
    "id": "f78BG1wAMwM0"
   },
   "outputs": [],
   "source": [
    "# create a function which takes a movie name and make recommedation for it\n",
    "def make_recommendation(input_str,data,model,mapper,n_recommendation):\n",
    "    print(\"In process of getting Your Recommendations....\\n\")\n",
    "    model.fit(data)\n",
    "    \n",
    "    index = fuzzy_movie_name_matching (input_str,mapper,print_matches = False)\n",
    "    \n",
    "    if index==-1 :\n",
    "        print(\"pls enter a valid movie name\\n\")\n",
    "        return \n",
    "    \n",
    "    index_list = model.kneighbors(data[index],n_neighbors=n_recommendation+1,return_distance=False)\n",
    "    # now we ind of all recommendation\n",
    "    # build mapper index->title\n",
    "    index_to_movie={\n",
    "        ind:movie for movie,ind in mapper.items()\n",
    "    }\n",
    "    \n",
    "    print(\"Viewer who watches this movie \",input_str,\"also watches following movies.\")\n",
    "    #print(index_list[0][2])\n",
    "    for i in range(1,index_list.shape[1]):\n",
    "        print(index_to_movie[index_list[0][i]])\n",
    "    \n",
    "    \n",
    "    \n",
    "    return \n",
    "    \n",
    "    "
   ]
  },
  {
   "cell_type": "code",
   "execution_count": 25,
   "metadata": {
    "colab": {
     "base_uri": "https://localhost:8080/",
     "height": 235
    },
    "colab_type": "code",
    "id": "2SvguFDHMzH9",
    "outputId": "36c1a7ff-bc97-4917-b3c3-1868da071bc2"
   },
   "outputs": [
    {
     "name": "stdout",
     "output_type": "stream",
     "text": [
      "In process of getting Your Recommendations....\n",
      "\n",
      "Viewer who watches this movie  Father of the Bride Part II  also watches following movies.\n",
      "Grumpier Old Men (1995)\n",
      "Mr. Holland's Opus (1995)\n",
      "Sabrina (1995)\n",
      "Twister (1996)\n",
      "Sgt. Bilko (1996)\n",
      "Nutty Professor, The (1996)\n",
      "Broken Arrow (1996)\n",
      "Eraser (1996)\n",
      "Birdcage, The (1996)\n",
      "Executive Decision (1996)\n"
     ]
    }
   ],
   "source": [
    "make_recommendation('Father of the Bride Part II ',item_user_mat_sparse,recommendation_model,movie_to_index,10)"
   ]
  },
  {
   "cell_type": "code",
   "execution_count": 0,
   "metadata": {
    "colab": {},
    "colab_type": "code",
    "id": "jxmB0oKdM6Ie"
   },
   "outputs": [],
   "source": []
  }
 ],
 "metadata": {
  "colab": {
   "include_colab_link": true,
   "name": "movie recommender system using KNN",
   "provenance": [],
   "version": "0.3.2"
  },
  "kernelspec": {
   "display_name": "Python 3 (ipykernel)",
   "language": "python",
   "name": "python3"
  },
  "language_info": {
   "codemirror_mode": {
    "name": "ipython",
    "version": 3
   },
   "file_extension": ".py",
   "mimetype": "text/x-python",
   "name": "python",
   "nbconvert_exporter": "python",
   "pygments_lexer": "ipython3",
   "version": "3.9.7"
  }
 },
 "nbformat": 4,
 "nbformat_minor": 1
}
